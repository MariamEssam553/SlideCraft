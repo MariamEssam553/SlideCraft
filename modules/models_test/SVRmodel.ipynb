{
 "cells": [
  {
   "cell_type": "code",
   "execution_count": 13,
   "metadata": {},
   "outputs": [],
   "source": [
    "# Importing the libraries\n",
    "from sklearn.feature_extraction.text import TfidfVectorizer\n",
    "from sklearn.svm import SVR\n",
    "from sklearn.pipeline import make_pipeline\n",
    "from sklearn.preprocessing import StandardScaler\n",
    "import numpy as np\n",
    "import spacy"
   ]
  },
  {
   "cell_type": "code",
   "execution_count": 14,
   "metadata": {},
   "outputs": [],
   "source": [
    "# Function to extract keywords from a single document\n",
    "def extract_keywords(doc, top_n=3):\n",
    "    tfidf = TfidfVectorizer(stop_words='english', max_features=top_n)\n",
    "    response = tfidf.fit_transform([doc])\n",
    "    feature_names = np.array(tfidf.get_feature_names_out())\n",
    "    tfidf_scores = response.toarray()[0]\n",
    "    top_indices = tfidf_scores.argsort()[-top_n:][::-1]\n",
    "    return feature_names[top_indices]"
   ]
  },
  {
   "cell_type": "code",
   "execution_count": 15,
   "metadata": {},
   "outputs": [],
   "source": [
    "# Example function to train an SVR model on bullet points with importance scores\n",
    "def train_svr_model(bullet_points, scores):\n",
    "    tfidf = TfidfVectorizer(stop_words='english')\n",
    "    X = tfidf.fit_transform(bullet_points)\n",
    "    y = np.array(scores)\n",
    "\n",
    "    svr = make_pipeline(StandardScaler(with_mean=False), SVR(C=1.0, epsilon=0.2))\n",
    "    svr.fit(X, y)\n",
    "\n",
    "    return tfidf, svr"
   ]
  },
  {
   "cell_type": "code",
   "execution_count": 16,
   "metadata": {},
   "outputs": [
    {
     "name": "stdout",
     "output_type": "stream",
     "text": [
      "17\n"
     ]
    }
   ],
   "source": [
    "# Example bullet points and corresponding importance scores\n",
    "bullet_points = [\n",
    "    \"Math is all around us.\", \n",
    "    \"Math helps us understand the world and solve problems.\", \n",
    "    \"This text will explain what math is, why it is important, and how we use it in our daily lives.\", \n",
    "    \"There are many different areas of math, such as addition, subtraction, multiplication, division, geometry, and algebra.\", \n",
    "    \"Another important part of math is geometry.\", \n",
    "    \"Algebra is another area of math that is very important.\", \n",
    "    \"Math is important for many reasons.\", \n",
    "    \"When we use math, we learn to think logically and critically.\", \n",
    "    \"Second, math is important for many jobs.\", \n",
    "    \"Even jobs that do not seem related to math often require basic math skills.\", \n",
    "    \"For example, chefs use math to measure ingredients, and cashiers use math to give the correct change.\", \n",
    "    \"Third, math helps us understand the world.\", \n",
    "    \"We also use math in our daily lives in many ways.\", \n",
    "    \"For example, when we cook, we use math to measure ingredients and follow recipes.\", \n",
    "    \"In conclusion, math is a very important subject that helps us in many ways.\", \n",
    "    \"We use math every day, often without even thinking about it.\", \n",
    "    \"Math is a valuable tool that helps us in many areas of our lives.\"\n",
    "]\n",
    "print(len(bullet_points))\n",
    "importance_scores = [8.5, 9.0, 7.5, 8.2, 7.8, 9.1, 8.9, 7.6, 8.0, 9.3, 7.7, 8.1, 8.4, 9.2, 7.9, 8.3, 8.7]\n",
    "\n",
    "# Train the SVR model\n",
    "tfidf, svr = train_svr_model(bullet_points, importance_scores)"
   ]
  },
  {
   "cell_type": "code",
   "execution_count": 17,
   "metadata": {},
   "outputs": [],
   "source": [
    "def generate_slide_deck_title(bullet_points, top_n=3):\n",
    "    # Combine all bullet points into a single document\n",
    "    combined_text = ' '.join(bullet_points)\n",
    "\n",
    "    nlp = spacy.load('en_core_web_lg')\n",
    "    doc = nlp(combined_text)\n",
    "    \n",
    "    # Extract key phrases using spaCy noun chunks\n",
    "    key_phrases = [chunk.text for chunk in doc.noun_chunks]\n",
    "    \n",
    "    # Predict importance scores for key phrases using the SVR model\n",
    "    phrase_scores = []\n",
    "    for phrase in key_phrases:\n",
    "        X = tfidf.transform([phrase])\n",
    "        score = svr.predict(X)\n",
    "        phrase_scores.append((phrase, score[0]))\n",
    "    \n",
    "    # Sort phrases by their predicted importance scores\n",
    "    sorted_phrases = sorted(phrase_scores, key=lambda x: x[1], reverse=True)\n",
    "    \n",
    "    # Get the top N phrases\n",
    "    top_phrases = [phrase for phrase, score in sorted_phrases[:top_n]]\n",
    "    \n",
    "    # Capitalize each word in each phrase\n",
    "    capitalized_phrases = [' '.join(word.capitalize() for word in phrase.split()) for phrase in top_phrases]\n",
    "    \n",
    "    # Generate a title by joining the top N key phrases\n",
    "    title = ' '.join(capitalized_phrases)\n",
    "    \n",
    "    return title"
   ]
  },
  {
   "cell_type": "code",
   "execution_count": 18,
   "metadata": {},
   "outputs": [
    {
     "name": "stdout",
     "output_type": "stream",
     "text": [
      "Many Reasons Another Area Algebra\n"
     ]
    }
   ],
   "source": [
    "# Generate a slide deck title\n",
    "title = generate_slide_deck_title(bullet_points, top_n=3)\n",
    "print(title)"
   ]
  }
 ],
 "metadata": {
  "kernelspec": {
   "display_name": "Python 3",
   "language": "python",
   "name": "python3"
  },
  "language_info": {
   "codemirror_mode": {
    "name": "ipython",
    "version": 3
   },
   "file_extension": ".py",
   "mimetype": "text/x-python",
   "name": "python",
   "nbconvert_exporter": "python",
   "pygments_lexer": "ipython3",
   "version": "3.11.8"
  }
 },
 "nbformat": 4,
 "nbformat_minor": 2
}
