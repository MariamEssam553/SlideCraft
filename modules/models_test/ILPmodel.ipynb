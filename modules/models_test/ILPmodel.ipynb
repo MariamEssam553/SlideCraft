{
 "cells": [
  {
   "cell_type": "code",
   "execution_count": 1,
   "metadata": {},
   "outputs": [],
   "source": [
    "# Importing the libraries\n",
    "from sklearn.feature_extraction.text import TfidfVectorizer\n",
    "import numpy as np\n",
    "import spacy\n",
    "import pulp"
   ]
  },
  {
   "cell_type": "code",
   "execution_count": 2,
   "metadata": {},
   "outputs": [],
   "source": [
    "# Function to extract keywords from a single document\n",
    "def extract_keywords(doc, top_n=3):\n",
    "    tfidf = TfidfVectorizer(stop_words='english', max_features=top_n)\n",
    "    response = tfidf.fit_transform([doc])\n",
    "    feature_names = np.array(tfidf.get_feature_names_out())\n",
    "    tfidf_scores = response.toarray()[0]\n",
    "    top_indices = tfidf_scores.argsort()[-top_n:][::-1]\n",
    "    return feature_names[top_indices]"
   ]
  },
  {
   "cell_type": "code",
   "execution_count": 3,
   "metadata": {},
   "outputs": [],
   "source": [
    "def generate_slide_deck_title(bullet_points, top_n=3):\n",
    "    # Combine all bullet points into a single document\n",
    "    combined_text = ' '.join(bullet_points)\n",
    "\n",
    "    nlp = spacy.load('en_core_web_lg')\n",
    "    \n",
    "    doc = nlp(combined_text)\n",
    "    \n",
    "    # Extract key phrases using spaCy noun chunks\n",
    "    key_phrases = [chunk.text for chunk in doc.noun_chunks]\n",
    "    \n",
    "    # Extract keywords using TF-IDF\n",
    "    keywords = extract_keywords(combined_text, top_n)\n",
    "    \n",
    "    # Combine key phrases and keywords, removing duplicates\n",
    "    combined_phrases = list(dict.fromkeys(key_phrases + list(keywords)))\n",
    "    \n",
    "    # Calculate TF-IDF scores for combined phrases\n",
    "    tfidf = TfidfVectorizer(stop_words='english')\n",
    "    tfidf_matrix = tfidf.fit_transform(combined_phrases)\n",
    "    feature_names = np.array(tfidf.get_feature_names_out())\n",
    "    tfidf_scores = tfidf_matrix.toarray().sum(axis=0)\n",
    "    \n",
    "    # Create a dictionary of phrase scores\n",
    "    phrase_scores = {phrase: tfidf_scores[i] for i, phrase in enumerate(combined_phrases)}\n",
    "    \n",
    "    # Create ILP model\n",
    "    model = pulp.LpProblem(\"Title_Generation\", pulp.LpMaximize)\n",
    "    \n",
    "    # Create binary variables for each phrase\n",
    "    phrase_vars = {phrase: pulp.LpVariable(f\"phrase_{i}\", cat='Binary') for i, phrase in enumerate(combined_phrases)}\n",
    "    \n",
    "    # Objective function: maximize the sum of the TF-IDF scores of the selected phrases\n",
    "    model += pulp.lpSum([phrase_vars[phrase] * phrase_scores[phrase] for phrase in combined_phrases])\n",
    "    \n",
    "    # Constraint: select exactly top_n phrases\n",
    "    model += pulp.lpSum([phrase_vars[phrase] for phrase in combined_phrases]) == top_n\n",
    "    \n",
    "    # Solve the ILP model\n",
    "    model.solve()\n",
    "    \n",
    "    # Get the selected phrases\n",
    "    selected_phrases = [phrase for phrase in combined_phrases if pulp.value(phrase_vars[phrase]) == 1]\n",
    "    \n",
    "    # Capitalize each word in each phrase\n",
    "    capitalized_phrases = [' '.join(word.capitalize() for word in phrase.split()) for phrase in selected_phrases]\n",
    "    \n",
    "    # Generate a title by joining the top N key phrases\n",
    "    title = ' '.join(capitalized_phrases)\n",
    "    \n",
    "    return title"
   ]
  },
  {
   "cell_type": "code",
   "execution_count": 8,
   "metadata": {},
   "outputs": [
    {
     "ename": "IndexError",
     "evalue": "index 33 is out of bounds for axis 0 with size 33",
     "output_type": "error",
     "traceback": [
      "\u001b[1;31m---------------------------------------------------------------------------\u001b[0m",
      "\u001b[1;31mIndexError\u001b[0m                                Traceback (most recent call last)",
      "Cell \u001b[1;32mIn[8], line 24\u001b[0m\n\u001b[0;32m      2\u001b[0m bullet_points \u001b[38;5;241m=\u001b[39m [\n\u001b[0;32m      3\u001b[0m     \u001b[38;5;124m\"\u001b[39m\u001b[38;5;124mMath is all around us.\u001b[39m\u001b[38;5;124m\"\u001b[39m, \n\u001b[0;32m      4\u001b[0m     \u001b[38;5;124m\"\u001b[39m\u001b[38;5;124mMath helps us understand the world and solve problems.\u001b[39m\u001b[38;5;124m\"\u001b[39m, \n\u001b[1;32m   (...)\u001b[0m\n\u001b[0;32m     20\u001b[0m \n\u001b[0;32m     21\u001b[0m ]\n\u001b[0;32m     23\u001b[0m \u001b[38;5;66;03m# Generate a slide deck title\u001b[39;00m\n\u001b[1;32m---> 24\u001b[0m title \u001b[38;5;241m=\u001b[39m \u001b[43mgenerate_slide_deck_title\u001b[49m\u001b[43m(\u001b[49m\u001b[43mbullet_points\u001b[49m\u001b[43m,\u001b[49m\u001b[43m \u001b[49m\u001b[43mtop_n\u001b[49m\u001b[38;5;241;43m=\u001b[39;49m\u001b[38;5;241;43m3\u001b[39;49m\u001b[43m)\u001b[49m\n\u001b[0;32m     25\u001b[0m \u001b[38;5;28mprint\u001b[39m(title)\n",
      "Cell \u001b[1;32mIn[3], line 25\u001b[0m, in \u001b[0;36mgenerate_slide_deck_title\u001b[1;34m(bullet_points, top_n)\u001b[0m\n\u001b[0;32m     22\u001b[0m tfidf_scores \u001b[38;5;241m=\u001b[39m tfidf_matrix\u001b[38;5;241m.\u001b[39mtoarray()\u001b[38;5;241m.\u001b[39msum(axis\u001b[38;5;241m=\u001b[39m\u001b[38;5;241m0\u001b[39m)\n\u001b[0;32m     24\u001b[0m \u001b[38;5;66;03m# Create a dictionary of phrase scores\u001b[39;00m\n\u001b[1;32m---> 25\u001b[0m phrase_scores \u001b[38;5;241m=\u001b[39m \u001b[43m{\u001b[49m\u001b[43mphrase\u001b[49m\u001b[43m:\u001b[49m\u001b[43m \u001b[49m\u001b[43mtfidf_scores\u001b[49m\u001b[43m[\u001b[49m\u001b[43mi\u001b[49m\u001b[43m]\u001b[49m\u001b[43m \u001b[49m\u001b[38;5;28;43;01mfor\u001b[39;49;00m\u001b[43m \u001b[49m\u001b[43mi\u001b[49m\u001b[43m,\u001b[49m\u001b[43m \u001b[49m\u001b[43mphrase\u001b[49m\u001b[43m \u001b[49m\u001b[38;5;129;43;01min\u001b[39;49;00m\u001b[43m \u001b[49m\u001b[38;5;28;43menumerate\u001b[39;49m\u001b[43m(\u001b[49m\u001b[43mcombined_phrases\u001b[49m\u001b[43m)\u001b[49m\u001b[43m}\u001b[49m\n\u001b[0;32m     27\u001b[0m \u001b[38;5;66;03m# Create ILP model\u001b[39;00m\n\u001b[0;32m     28\u001b[0m model \u001b[38;5;241m=\u001b[39m pulp\u001b[38;5;241m.\u001b[39mLpProblem(\u001b[38;5;124m\"\u001b[39m\u001b[38;5;124mTitle_Generation\u001b[39m\u001b[38;5;124m\"\u001b[39m, pulp\u001b[38;5;241m.\u001b[39mLpMaximize)\n",
      "Cell \u001b[1;32mIn[3], line 25\u001b[0m, in \u001b[0;36m<dictcomp>\u001b[1;34m(.0)\u001b[0m\n\u001b[0;32m     22\u001b[0m tfidf_scores \u001b[38;5;241m=\u001b[39m tfidf_matrix\u001b[38;5;241m.\u001b[39mtoarray()\u001b[38;5;241m.\u001b[39msum(axis\u001b[38;5;241m=\u001b[39m\u001b[38;5;241m0\u001b[39m)\n\u001b[0;32m     24\u001b[0m \u001b[38;5;66;03m# Create a dictionary of phrase scores\u001b[39;00m\n\u001b[1;32m---> 25\u001b[0m phrase_scores \u001b[38;5;241m=\u001b[39m {phrase: \u001b[43mtfidf_scores\u001b[49m\u001b[43m[\u001b[49m\u001b[43mi\u001b[49m\u001b[43m]\u001b[49m \u001b[38;5;28;01mfor\u001b[39;00m i, phrase \u001b[38;5;129;01min\u001b[39;00m \u001b[38;5;28menumerate\u001b[39m(combined_phrases)}\n\u001b[0;32m     27\u001b[0m \u001b[38;5;66;03m# Create ILP model\u001b[39;00m\n\u001b[0;32m     28\u001b[0m model \u001b[38;5;241m=\u001b[39m pulp\u001b[38;5;241m.\u001b[39mLpProblem(\u001b[38;5;124m\"\u001b[39m\u001b[38;5;124mTitle_Generation\u001b[39m\u001b[38;5;124m\"\u001b[39m, pulp\u001b[38;5;241m.\u001b[39mLpMaximize)\n",
      "\u001b[1;31mIndexError\u001b[0m: index 33 is out of bounds for axis 0 with size 33"
     ]
    }
   ],
   "source": [
    "# Example bullet points\n",
    "bullet_points = [\n",
    "    \"Math is all around us.\", \n",
    "    \"Math helps us understand the world and solve problems.\", \n",
    "    \"This text will explain what math is, why it is important, and how we use it in our daily lives.\", \n",
    "    \"There are many different areas of math, such as addition, subtraction, multiplication, division, geometry, and algebra.\", \n",
    "    \"Another important part of math is geometry.\", \n",
    "    \"Algebra is another area of math that is very important.\", \n",
    "    \"Math is important for many reasons.\", \n",
    "    \"When we use math, we learn to think logically and critically.\", \n",
    "    \"Second, math is important for many jobs.\", \n",
    "    \"Even jobs that do not seem related to math often require basic math skills.\", \n",
    "    \"For example, chefs use math to measure ingredients, and cashiers use math to give the correct change.\", \n",
    "    \"Third, math helps us understand the world.\", \n",
    "    \"We also use math in our daily lives in many ways.\", \n",
    "    \"For example, when we cook, we use math to measure ingredients and follow recipes.\", \n",
    "    \"In conclusion, math is a very important subject that helps us in many ways.\", \n",
    "    \"We use math every day, often without even thinking about it.\", \n",
    "    \"Math is a valuable tool that helps us in many areas of our lives.\"\n",
    "\n",
    "]\n",
    "\n",
    "# Generate a slide deck title\n",
    "title = generate_slide_deck_title(bullet_points, top_n=3)\n",
    "print(title)\n"
   ]
  }
 ],
 "metadata": {
  "kernelspec": {
   "display_name": "Python 3",
   "language": "python",
   "name": "python3"
  },
  "language_info": {
   "codemirror_mode": {
    "name": "ipython",
    "version": 3
   },
   "file_extension": ".py",
   "mimetype": "text/x-python",
   "name": "python",
   "nbconvert_exporter": "python",
   "pygments_lexer": "ipython3",
   "version": "3.11.8"
  }
 },
 "nbformat": 4,
 "nbformat_minor": 2
}
