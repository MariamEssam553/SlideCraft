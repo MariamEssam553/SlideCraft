{
 "cells": [
  {
   "cell_type": "code",
   "execution_count": null,
   "metadata": {},
   "outputs": [],
   "source": [
    "# Module imports\n",
    "import text_summarization as ts\n",
    "import header_extraction as he\n",
    "import image_generation as ig\n",
    "import image_searching as ss\n",
    "import read_file as rf\n",
    "\n",
    "# PowerPoint imports\n",
    "from pptx import Presentation\n",
    "from pptx.util import Inches, Pt\n",
    "from pptx.dml.color import RGBColor\n",
    "from pptx.oxml.xmlchemy import OxmlElement"
   ]
  },
  {
   "cell_type": "code",
   "execution_count": null,
   "metadata": {},
   "outputs": [],
   "source": [
    "text_string = rf.read_file(\"text_files/Football.txt\")\n",
    "word_document = rf.read_file(\"text_files/Technology.docx\")\n",
    "math_word_document = rf.read_file(\"text_files/Math.docx\")"
   ]
  },
  {
   "cell_type": "code",
   "execution_count": null,
   "metadata": {},
   "outputs": [],
   "source": [
    "# Summarize the article\n",
    "bullet_points = ts.summarize(math_word_document)\n",
    "print(bullet_points)\n",
    "print(len(bullet_points))"
   ]
  },
  {
   "cell_type": "code",
   "execution_count": null,
   "metadata": {},
   "outputs": [],
   "source": [
    "# Generate a general header\n",
    "header = he.generate_slide_deck_title(bullet_points, 1)\n",
    "print(header)"
   ]
  },
  {
   "cell_type": "code",
   "execution_count": null,
   "metadata": {},
   "outputs": [],
   "source": [
    "# Generate an image using the general header using OpenAI's DALL-E\n",
    "image = ig.generate_image_from_text(header)\n",
    "image_path = 'generated_image.jpg'\n",
    "ig.save_image(image, image_path)"
   ]
  },
  {
   "cell_type": "code",
   "execution_count": null,
   "metadata": {},
   "outputs": [],
   "source": [
    "# Create a new PowerPoint presentation\n",
    "\n",
    "prs = Presentation(\"themes/dark.pptx\")\n",
    "\n",
    "# Function to add a new slide\n",
    "def add_new_slide(prs, header, image_path=None):\n",
    "    slide = prs.slides.add_slide(prs.slide_layouts[6])\n",
    "    title = slide.shapes.title\n",
    "    title.text = header\n",
    "    title.text_frame.paragraphs[0].runs[0].font.color.rgb = RGBColor(255, 255, 255)\n",
    "    title.text_frame.paragraphs[0].runs[0].font.size = Pt(40)\n",
    "\n",
    "    # Add a text box for bullet points\n",
    "    left = Inches(0.2)\n",
    "    top = Inches(1.5)\n",
    "    width = Inches(6.7)\n",
    "    height = Inches(2.5)\n",
    "    textbox = slide.shapes.add_textbox(left, top, width, height)\n",
    "    text_frame = textbox.text_frame\n",
    "    text_frame.word_wrap = True\n",
    "\n",
    "    # Add the generated image to the slide\n",
    "    if image_path:\n",
    "        img_left = Inches(7)\n",
    "        img_top = Inches(2)\n",
    "        img_height = Inches(2.5)\n",
    "        img_width = Inches(2.5)\n",
    "        slide.shapes.add_picture(image_path, img_left, img_top, height=img_height, width=img_width)\n",
    "\n",
    "    return slide, text_frame\n",
    "\n",
    "# Function to add dot bullets\n",
    "def add_dot_bullet(paragraph):\n",
    "    pPr = paragraph._p.get_or_add_pPr()\n",
    "    buChar = OxmlElement('a:buChar')\n",
    "    buChar.set('char', '•')\n",
    "    pPr.insert(0, buChar)\n",
    "\n",
    "# Process bullet points in chunks of 3 (3 bullet points per slide)\n",
    "chunk_size = 3\n",
    "for i in range(0, len(bullet_points), chunk_size):\n",
    "    chunk = bullet_points[i:i+chunk_size]\n",
    "    header = he.generate_slide_deck_title(chunk, 2)\n",
    "      \n",
    "    # # Generate an image for the current chunk using OpenAI's DALL-E\n",
    "    # image = ig.generate_image_from_text(header)\n",
    "    # image_path = f'generated_image_{i//chunk_size}.jpg'\n",
    "    # ig.save_image(image, image_path)\n",
    "\n",
    " # Generate multiple image URLs for the current chunk\n",
    "    image_urls = ss.search_google_images(header)\n",
    "    image = None\n",
    "    image_path = None\n",
    "\n",
    "    # Try each URL until a valid image is found\n",
    "    for image_url in image_urls:\n",
    "        print(f\"Trying image URL: {image_url}\")\n",
    "        image = ss.download_image(image_url)\n",
    "        if image:\n",
    "            image_path = f'generated_image_{i//chunk_size}.jpg'\n",
    "            image_path = ss.save_image(image, image_path)\n",
    "            break\n",
    "    \n",
    "    # Add a new slide for each chunk with the generated image\n",
    "    slide, text_frame = add_new_slide(prs, header, image_path)\n",
    "    \n",
    "    # Add bullet points with smaller font size and dot bullet\n",
    "    for point in chunk:\n",
    "        if point.strip():  # Check if the point is not empty\n",
    "            p = text_frame.add_paragraph()\n",
    "            p.text = ' ' + point  # Add space after the bullet\n",
    "            p.level = 0\n",
    "            p.font.size = Pt(16)\n",
    "            p.font.color.rgb = RGBColor(0, 0, 0)\n",
    "            p.space_after = Pt(14)  # Add space after each point for better readability\n",
    "            add_dot_bullet(p)  # Add dot bullet for each point\n",
    "            \n",
    "            # Add an empty paragraph for spacing\n",
    "            empty_p = text_frame.add_paragraph()\n",
    "            empty_p.text = ''\n",
    "            empty_p.level = 0\n",
    "            empty_p.font.size = Pt(18)\n",
    "            empty_p.space_after = Pt(14)  # Add space after each point for better readability\n",
    "\n",
    "# Save the presentation\n",
    "prs.save('ppt.pptx')\n",
    "print(\"Presentation saved successfully!\")"
   ]
  }
 ],
 "metadata": {
  "kernelspec": {
   "display_name": "Python 3",
   "language": "python",
   "name": "python3"
  },
  "language_info": {
   "codemirror_mode": {
    "name": "ipython",
    "version": 3
   },
   "file_extension": ".py",
   "mimetype": "text/x-python",
   "name": "python",
   "nbconvert_exporter": "python",
   "pygments_lexer": "ipython3",
   "version": "3.12.3"
  }
 },
 "nbformat": 4,
 "nbformat_minor": 2
}
