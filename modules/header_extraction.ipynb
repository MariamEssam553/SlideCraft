{
 "cells": [
  {
   "cell_type": "code",
   "execution_count": 32,
   "metadata": {},
   "outputs": [],
   "source": [
    "# import nltk\n",
    "import fitz  # PyMuPDF\n",
    "from nltk.tokenize import sent_tokenize, word_tokenize\n",
    "from nltk.corpus import stopwords\n",
    "from collections import Counter\n",
    "import string\n",
    "\n",
    "# Download NLTK resources if not already downloaded\n",
    "# nltk.download('punkt')\n",
    "# nltk.download('stopwords')"
   ]
  },
  {
   "cell_type": "code",
   "execution_count": 28,
   "metadata": {},
   "outputs": [],
   "source": [
    "def extract_text_from_pdf(file_path):\n",
    "    \"\"\"Extract text content from a PDF file.\"\"\"\n",
    "    document = fitz.open(file_path)\n",
    "    text = ''\n",
    "    for page_num in range(len(document)):\n",
    "        page = document.load_page(page_num)\n",
    "        text += page.get_text(\"text\")\n",
    "    # print(text)\n",
    "    return text"
   ]
  },
  {
   "cell_type": "code",
   "execution_count": 29,
   "metadata": {},
   "outputs": [],
   "source": [
    "def generate_headers(text, num_headers=5, max_header_length=10):\n",
    "    \"\"\"Generate concise and relevant headers from text.\"\"\"\n",
    "    # Tokenize the text into sentences\n",
    "    sentences = sent_tokenize(text)\n",
    "\n",
    "    # Tokenize and clean the text\n",
    "    words = word_tokenize(text.lower())\n",
    "    words = [word for word in words if word not in stopwords.words('english') and word not in string.punctuation]\n",
    "\n",
    "    # Count word frequencies\n",
    "    word_frequencies = Counter(words)\n",
    "\n",
    "    # Score each sentence based on word frequencies\n",
    "    sentence_scores = {}\n",
    "    for sentence in sentences:\n",
    "        sentence_words = word_tokenize(sentence.lower())\n",
    "        sentence_score = sum(word_frequencies.get(word, 0) for word in sentence_words)\n",
    "        sentence_scores[sentence] = sentence_score\n",
    "\n",
    "    # Select the top sentences as potential headers\n",
    "    sorted_sentences = sorted(sentence_scores, key=sentence_scores.get, reverse=True)\n",
    "    headers = []\n",
    "    \n",
    "    for sentence in sorted_sentences[:num_headers * 2]:  # consider more sentences to get better headers\n",
    "        # Truncate the sentence to a maximum length\n",
    "        words = word_tokenize(sentence)\n",
    "        if len(words) > max_header_length:\n",
    "            truncated_sentence = ' '.join(words[:max_header_length]) + '...'\n",
    "        else:\n",
    "            truncated_sentence = sentence\n",
    "\n",
    "        # Filter out very short headers and duplicates\n",
    "        if len(truncated_sentence) > 15 and truncated_sentence not in headers:  # example threshold for header length\n",
    "            headers.append(truncated_sentence)\n",
    "\n",
    "        if len(headers) >= num_headers:\n",
    "            break\n",
    "\n",
    "    return headers"
   ]
  },
  {
   "cell_type": "code",
   "execution_count": 30,
   "metadata": {},
   "outputs": [],
   "source": [
    "def main():\n",
    "    \"\"\"Main function to extract headers from a PDF file.\"\"\"\n",
    "    # Path to your PDF file\n",
    "    file_path = r\"E:\\University\\Materials\\6 - Year 5 (2023-2024)\\GP\\technology.pdf\"\n",
    "    text = extract_text_from_pdf(file_path)\n",
    "    \n",
    "    # Generate enhanced headers\n",
    "    headers = generate_headers(text, num_headers=5, max_header_length=10)\n",
    "    \n",
    "    print(\"Generated Headers:\")\n",
    "    for header in headers:\n",
    "        print(header)\n"
   ]
  },
  {
   "cell_type": "code",
   "execution_count": 31,
   "metadata": {},
   "outputs": [
    {
     "name": "stdout",
     "output_type": "stream",
     "text": [
      "Generated Headers:\n",
      "Based on their literature review , the authors noted that...\n",
      "D. The Growth of English Teaching through Technology With the...\n",
      "b. Teachers ’ Area of Specialty Teachers of technical topics...\n",
      "Specifically , prior experience with technology is significantly correlated with...\n",
      "C. Use of Technology in English Teaching And Learning In...\n"
     ]
    }
   ],
   "source": [
    "if __name__ == \"__main__\":\n",
    "    main()\n"
   ]
  }
 ],
 "metadata": {
  "kernelspec": {
   "display_name": "Python 3",
   "language": "python",
   "name": "python3"
  },
  "language_info": {
   "codemirror_mode": {
    "name": "ipython",
    "version": 3
   },
   "file_extension": ".py",
   "mimetype": "text/x-python",
   "name": "python",
   "nbconvert_exporter": "python",
   "pygments_lexer": "ipython3",
   "version": "3.11.8"
  }
 },
 "nbformat": 4,
 "nbformat_minor": 2
}
